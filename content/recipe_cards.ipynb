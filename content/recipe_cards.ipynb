{
 "cells": [
  {
   "cell_type": "markdown",
   "id": "8c36b2b6",
   "metadata": {},
   "source": [
    "# Recipe Cards: A Python App to streamline recipes into atomic steps"
   ]
  },
  {
   "cell_type": "markdown",
   "id": "70c05ad7",
   "metadata": {},
   "source": [
    "## Description"
   ]
  },
  {
   "cell_type": "markdown",
   "id": "b57d0f84",
   "metadata": {},
   "source": [
    "The goal of this project is to take a recipe found online, and return to the user in a readable format a set of individual, atomic steps that can be followed, in series or in parallel when applicable, to complete the recipe. \n",
    "The outline is to:\n",
    "- Scrape recipes from websites with [hhursev/recipe-scrapers](https://github.com/hhursev/recipe-scrapers)\n",
    "- Use an LLM to convert scraped recipe to a set of nodes that have dependencies on each other.\n",
    "- Convert nodes into a directed acyclic graph\n",
    "- Use topological sort algorithm to create a linear ordering of steps to take for a given recipe.\n",
    "- Return the linear ordering to the user in a friendly way."
   ]
  },
  {
   "cell_type": "code",
   "execution_count": 7,
   "id": "5cf4378c",
   "metadata": {},
   "outputs": [
    {
     "name": "stdout",
     "output_type": "stream",
     "text": [
      "Hello world, Vinay\n"
     ]
    }
   ],
   "source": [
    "print(\"Hello world, Vinay\")"
   ]
  },
  {
   "cell_type": "code",
   "execution_count": null,
   "id": "13a2822e",
   "metadata": {},
   "outputs": [],
   "source": []
  }
 ],
 "metadata": {
  "kernelspec": {
   "display_name": "Python 3 (ipykernel)",
   "language": "python",
   "name": "python3"
  },
  "language_info": {
   "codemirror_mode": {
    "name": "ipython",
    "version": 3
   },
   "file_extension": ".py",
   "mimetype": "text/x-python",
   "name": "python",
   "nbconvert_exporter": "python",
   "pygments_lexer": "ipython3",
   "version": "3.7.0"
  }
 },
 "nbformat": 4,
 "nbformat_minor": 5
}
